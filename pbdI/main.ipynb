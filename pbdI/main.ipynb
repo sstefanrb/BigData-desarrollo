{
 "cells": [
  {
   "cell_type": "code",
   "execution_count": 1,
   "id": "fd6a25b0-1886-479c-b12d-0a3bc812aed2",
   "metadata": {},
   "outputs": [
    {
     "name": "stdout",
     "output_type": "stream",
     "text": [
      "Collecting fastparquet\n",
      "  Downloading fastparquet-2024.2.0-cp310-cp310-win_amd64.whl (670 kB)\n",
      "     -------------------------------------- 670.4/670.4 kB 5.3 MB/s eta 0:00:00\n",
      "Requirement already satisfied: fsspec in c:\\users\\sstef\\anaconda3\\lib\\site-packages (from fastparquet) (2022.11.0)\n",
      "Collecting cramjam>=2.3\n",
      "  Downloading cramjam-2.8.1-cp310-none-win_amd64.whl (1.6 MB)\n",
      "     ---------------------------------------- 1.6/1.6 MB 6.8 MB/s eta 0:00:00\n",
      "Requirement already satisfied: packaging in c:\\users\\sstef\\anaconda3\\lib\\site-packages (from fastparquet) (22.0)\n",
      "Requirement already satisfied: pandas>=1.5.0 in c:\\users\\sstef\\anaconda3\\lib\\site-packages (from fastparquet) (1.5.3)\n",
      "Requirement already satisfied: numpy>=1.20.3 in c:\\users\\sstef\\anaconda3\\lib\\site-packages (from fastparquet) (1.23.5)\n",
      "Requirement already satisfied: pytz>=2020.1 in c:\\users\\sstef\\anaconda3\\lib\\site-packages (from pandas>=1.5.0->fastparquet) (2022.7)\n",
      "Requirement already satisfied: python-dateutil>=2.8.1 in c:\\users\\sstef\\anaconda3\\lib\\site-packages (from pandas>=1.5.0->fastparquet) (2.8.2)\n",
      "Requirement already satisfied: six>=1.5 in c:\\users\\sstef\\anaconda3\\lib\\site-packages (from python-dateutil>=2.8.1->pandas>=1.5.0->fastparquet) (1.16.0)\n",
      "Installing collected packages: cramjam, fastparquet\n",
      "Successfully installed cramjam-2.8.1 fastparquet-2024.2.0\n"
     ]
    }
   ],
   "source": [
    "!pip install fastparquet"
   ]
  },
  {
   "cell_type": "code",
   "execution_count": 2,
   "id": "9ff9387e-51b2-4159-b525-1baa7a068415",
   "metadata": {},
   "outputs": [],
   "source": [
    "\n",
    "import fastparquet\n",
    "import pandas as pd"
   ]
  },
  {
   "cell_type": "code",
   "execution_count": 3,
   "id": "e2d84f37-f1dc-497c-8265-c380e725fd46",
   "metadata": {},
   "outputs": [
    {
     "ename": "FileNotFoundError",
     "evalue": "/opt/data/mates_pbd/sahibinden_ads_details/20220510/a254f8a8-bf38-4cc8-bb67-2b76a131b2e7",
     "output_type": "error",
     "traceback": [
      "\u001b[1;31m---------------------------------------------------------------------------\u001b[0m",
      "\u001b[1;31mFileNotFoundError\u001b[0m                         Traceback (most recent call last)",
      "Cell \u001b[1;32mIn[3], line 3\u001b[0m\n\u001b[0;32m      1\u001b[0m archivo \u001b[38;5;241m=\u001b[39m \u001b[38;5;124m'\u001b[39m\u001b[38;5;124m/opt/data/mates_pbd/sahibinden_ads_details/20220510/a254f8a8-bf38-4cc8-bb67-2b76a131b2e7\u001b[39m\u001b[38;5;124m'\u001b[39m\n\u001b[1;32m----> 3\u001b[0m pf \u001b[38;5;241m=\u001b[39m \u001b[43mfastparquet\u001b[49m\u001b[38;5;241;43m.\u001b[39;49m\u001b[43mParquetFile\u001b[49m\u001b[43m(\u001b[49m\u001b[43marchivo\u001b[49m\u001b[43m)\u001b[49m\n\u001b[0;32m      5\u001b[0m df \u001b[38;5;241m=\u001b[39m pf\u001b[38;5;241m.\u001b[39mto_pandas()\n\u001b[0;32m      7\u001b[0m \u001b[38;5;28mprint\u001b[39m(df\u001b[38;5;241m.\u001b[39mhead())\n",
      "File \u001b[1;32mc:\\Users\\sstef\\anaconda3\\lib\\site-packages\\fastparquet\\api.py:178\u001b[0m, in \u001b[0;36mParquetFile.__init__\u001b[1;34m(self, fn, verify, open_with, root, sep, fs, pandas_nulls, dtypes)\u001b[0m\n\u001b[0;32m    176\u001b[0m         \u001b[38;5;28mself\u001b[39m\u001b[38;5;241m.\u001b[39mfs \u001b[38;5;241m=\u001b[39m fs\n\u001b[0;32m    177\u001b[0m     \u001b[38;5;28;01melse\u001b[39;00m:\n\u001b[1;32m--> 178\u001b[0m         \u001b[38;5;28;01mraise\u001b[39;00m \u001b[38;5;167;01mFileNotFoundError\u001b[39;00m(fn)\n\u001b[0;32m    179\u001b[0m \u001b[38;5;28;01melse\u001b[39;00m:\n\u001b[0;32m    180\u001b[0m     done \u001b[38;5;241m=\u001b[39m \u001b[38;5;28;01mFalse\u001b[39;00m\n",
      "\u001b[1;31mFileNotFoundError\u001b[0m: /opt/data/mates_pbd/sahibinden_ads_details/20220510/a254f8a8-bf38-4cc8-bb67-2b76a131b2e7"
     ]
    }
   ],
   "source": [
    "archivo = '/opt/data/mates_pbd/sahibinden_ads_details/20220510/a254f8a8-bf38-4cc8-bb67-2b76a131b2e7'\n",
    "\n",
    "pf = fastparquet.ParquetFile(archivo)\n",
    "\n",
    "df = pf.to_pandas()\n",
    "\n",
    "print(df.head())\n"
   ]
  },
  {
   "cell_type": "code",
   "execution_count": null,
   "metadata": {},
   "outputs": [],
   "source": [
    "# For each "
   ]
  },
  {
   "cell_type": "code",
   "execution_count": null,
   "id": "f898ca2d-6b43-4702-9159-7b429b14e544",
   "metadata": {},
   "outputs": [
    {
     "data": {
      "text/plain": [
       "external_id                           object\n",
       "post_date                     datetime64[ns]\n",
       "scrapping_datetime                    object\n",
       "make                                  object\n",
       "model                                 object\n",
       "trim                                  object\n",
       "year                                   int64\n",
       "fueltype                              object\n",
       "transmission                          object\n",
       "km                                     int64\n",
       "bodytype                              object\n",
       "horse_power                           object\n",
       "cyl_capacity                          object\n",
       "traction                              object\n",
       "color                                 object\n",
       "warranty                              object\n",
       "plate_type                            object\n",
       "ad_type                               object\n",
       "video_call_visible                    object\n",
       "status                                object\n",
       "seller                                object\n",
       "dealer_name                            UInt8\n",
       "seller_gallery_url                    object\n",
       "seller_phone_number                   object\n",
       "url                                   object\n",
       "price                                 object\n",
       "location                              object\n",
       "region                                object\n",
       "car_name                              object\n",
       "crawling_job_date                     object\n",
       "crawling_job_id                       object\n",
       "crawling_job_datetime                 object\n",
       "smartiq_retail                         int64\n",
       "smartiq_io                             int64\n",
       "smartiq_matching_trimlevel            object\n",
       "smartiq_comments                      object\n",
       "dtype: object"
      ]
     },
     "execution_count": 4,
     "metadata": {},
     "output_type": "execute_result"
    }
   ],
   "source": [
    "df.dtypes"
   ]
  },
  {
   "cell_type": "code",
   "execution_count": null,
   "id": "9b38adc3-ec1c-4499-a75a-918b7307859f",
   "metadata": {},
   "outputs": [
    {
     "name": "stdout",
     "output_type": "stream",
     "text": [
      "external_id                           object\n",
      "post_date                     datetime64[ns]\n",
      "scrapping_datetime                    object\n",
      "make                                  object\n",
      "model                                 object\n",
      "trim                                  object\n",
      "year                                   int64\n",
      "fueltype                              object\n",
      "transmission                          object\n",
      "km                                     int64\n",
      "bodytype                              object\n",
      "horse_power                           object\n",
      "cyl_capacity                          object\n",
      "traction                              object\n",
      "color                                 object\n",
      "warranty                              object\n",
      "plate_type                            object\n",
      "ad_type                               object\n",
      "video_call_visible                    object\n",
      "status                                object\n",
      "seller                                object\n",
      "dealer_name                            UInt8\n",
      "seller_gallery_url                    object\n",
      "seller_phone_number                   object\n",
      "url                                   object\n",
      "price                                 object\n",
      "location                              object\n",
      "region                                object\n",
      "car_name                              object\n",
      "crawling_job_date                     object\n",
      "crawling_job_id                       object\n",
      "crawling_job_datetime                 object\n",
      "smartiq_retail                         int64\n",
      "smartiq_io                             int64\n",
      "smartiq_matching_trimlevel            object\n",
      "smartiq_comments                      object\n",
      "dtype: object\n"
     ]
    }
   ],
   "source": [
    "archivo = '/opt/data/mates_pbd/sahibinden_ads_details/20220510/a254f8a8-bf38-4cc8-bb67-2b76a131b2e7'\n",
    "\n",
    "pf = fastparquet.ParquetFile(archivo)\n",
    "\n",
    "df = pf.to_pandas()\n",
    "\n",
    "print(df.dtypes)\n"
   ]
  },
  {
   "cell_type": "code",
   "execution_count": null,
   "metadata": {},
   "outputs": [
    {
     "name": "stdout",
     "output_type": "stream",
     "text": [
      "external_id                   object\n",
      "scrapping_datetime            object\n",
      "make                          object\n",
      "model                         object\n",
      "trimlevel                     object\n",
      "car_year                      object\n",
      "km                             int64\n",
      "price                          int64\n",
      "url                           object\n",
      "car_name                      object\n",
      "color                         object\n",
      "dealer_name                   object\n",
      "list_type                     object\n",
      "post_date             datetime64[ns]\n",
      "location                      object\n",
      "region                        object\n",
      "dtype: object\n"
     ]
    }
   ],
   "source": [
    "archivo = '/opt/data/mates_pbd/sahibinden_listings/20220124/372a0f75-2836-4758-82fe-42a1255b1c85/'\n",
    "\n",
    "pf = fastparquet.ParquetFile(archivo)\n",
    "\n",
    "df = pf.to_pandas()\n",
    "\n",
    "print(df.dtypes)\n"
   ]
  },
  {
   "cell_type": "code",
   "execution_count": null,
   "metadata": {},
   "outputs": [
    {
     "name": "stdout",
     "output_type": "stream",
     "text": [
      "scrapping_datetime       object\n",
      "crawling_job_id          object\n",
      "crawling_job_datetime    object\n",
      "crawling_job_date        object\n",
      "external_id              object\n",
      "make                     object\n",
      "model                    object\n",
      "trimlevel                object\n",
      "car_year                  int64\n",
      "km                        int64\n",
      "price                     int64\n",
      "url                      object\n",
      "car_name                 object\n",
      "color                    object\n",
      "dealer_name              object\n",
      "seller_gallery_url       object\n",
      "contact_phone            object\n",
      "dtype: object\n"
     ]
    }
   ],
   "source": [
    "archivo = '/opt/data/mates_pbd/sahibinden_galleries/20221109/11164512-427a-4a9c-a259-0d1161da61c0'\n",
    "\n",
    "pf = fastparquet.ParquetFile(archivo)\n",
    "\n",
    "df = pf.to_pandas()\n",
    "\n",
    "print(df.dtypes)"
   ]
  },
  {
   "cell_type": "code",
   "execution_count": null,
   "metadata": {},
   "outputs": [
    {
     "ename": "",
     "evalue": "",
     "output_type": "error",
     "traceback": [
      "\u001b[1;31mFailed to connect to the remote Jupyter Server 'http://127.0.0.1:8084/user/22118868francisco/'. Verify the server is running and reachable."
     ]
    }
   ],
   "source": [
    "# Process and aggregate all parquets accross all dates in (/opt/data/mates_pbd/sahibinden_galleries)\n",
    "# track the changes accrross dates\n",
    "\n",
    "\n",
    "import os\n",
    "\n",
    "# dict key: date, value: column names and types\n",
    "data = {}\n",
    "\n",
    "folder = '/opt/data/mates_pbd/sahibinden_galleries/'\n",
    "for date in os.listdir(folder):\n",
    "    # print(date)\n",
    "    for file in os.listdir(folder + date):\n",
    "        # print(file)\n",
    "        archivo = folder + date + '/' + file\n",
    "        pf = fastparquet.ParquetFile(archivo)\n",
    "        df = pf.to_pandas()\n",
    "        \n",
    "        if date not in data:\n",
    "            data[date] = df.dtypes\n",
    "        else:\n",
    "            for column in df.columns:\n",
    "                if column not in data[date]:\n",
    "                    data[date][column] = df.dtypes[column]\n",
    "                else:\n",
    "                    if data[date][column] != df.dtypes[column]:\n",
    "                        print('Column {} has changed type from {} to {}'.format(column, data[date][column], df.dtypes[column]))\n",
    "                        data[date][column] = df.dtypes[column]\n",
    "\n",
    "# Preview the data\n",
    "for date in data:\n",
    "    print(date)\n",
    "    print(data[date])"
   ]
  }
 ],
 "metadata": {
  "kernelspec": {
   "display_name": "Python 3 (ipykernel)",
   "language": "python",
   "name": "python3"
  },
  "language_info": {
   "codemirror_mode": {
    "name": "ipython",
    "version": 3
   },
   "file_extension": ".py",
   "mimetype": "text/x-python",
   "name": "python",
   "nbconvert_exporter": "python",
   "pygments_lexer": "ipython3",
   "version": "3.10.9"
  }
 },
 "nbformat": 4,
 "nbformat_minor": 5
}
