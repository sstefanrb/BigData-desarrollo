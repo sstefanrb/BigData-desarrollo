{
 "cells": [
  {
   "cell_type": "code",
   "execution_count": null,
   "metadata": {},
   "outputs": [],
   "source": [
    "import fastparquet\n",
    "import pandas as pd"
   ]
  },
  {
   "cell_type": "code",
   "execution_count": null,
   "metadata": {},
   "outputs": [],
   "source": [
    "archivo = './000b4fb2-939b-48fc-80ab-b3e5c07a3346'\n",
    "\n",
    "pf = fastparquet.ParquetFile(archivo)\n",
    "\n",
    "df = pf.to_pandas()\n",
    "#Explore\n",
    "print(df.info())\n",
    "print(df.describe())"
   ]
  },
  {
   "cell_type": "code",
   "execution_count": null,
   "metadata": {},
   "outputs": [],
   "source": [
    "# Parse scrapping_datetime to datetime (2023-02-02 19:44:16)\n",
    "df['scrapping_datetime'] = pd.to_datetime(df['scrapping_datetime'], format='%Y-%m-%d %H:%M:%S')\n",
    "\n",
    "# rename scrapping_datetime to @timestamp\n",
    "df = df.rename(columns={'scrapping_datetime': '@timestamp'})\n",
    "\n",
    "\n",
    "df = df.drop(columns=['crawling_job_id'])\n",
    "df = df.drop(columns=['crawling_job_datetime'])\n",
    "df = df.drop(columns=['crawling_job_date'])\n",
    "\n",
    "\n"
   ]
  },
  {
   "cell_type": "code",
   "execution_count": null,
   "metadata": {},
   "outputs": [],
   "source": [
    "archivo = '..\\\\data\\\\sahibinden_galleries\\\\20220821\\\\2a0f210c-ba5e-4e4c-ac17-4e451f5292af\\\\part-00000.parquet'\n",
    "\n",
    "pf = fastparquet.ParquetFile(archivo)\n",
    "\n",
    "df = pf.to_pandas()\n",
    "#Explore\n",
    "print(df.info())\n",
    "print(df.describe())"
   ]
  },
  {
   "cell_type": "code",
   "execution_count": null,
   "metadata": {},
   "outputs": [],
   "source": [
    "# Check if it is already loaded EXACT SEARCH\n",
    "s_term = \"20220905_60f95e0d-1024-4ba4-9d67-f8fd9c47c429\"\n",
    "query = {\n",
    "    \"query\": {\n",
    "        \"match\": {\n",
    "            \"folder_index\": {\n",
    "                \"query\": s_term,\n",
    "                \"auto_generate_synonyms_phrase_query\": False,\n",
    "                \"fuzziness\": 0\n",
    "            }\n",
    "        },\n",
    "    },\n",
    "}\n",
    "res = es.search(index=index_name, body=query,)\n",
    "if res['hits']['total']['value'] > 0:\n",
    "    # print(f'Already loaded {filename}')\n",
    "    found = False\n",
    "    for hit in res['hits']['hits']:\n",
    "        if hit['_source']['folder_index'] == s_term:\n",
    "            found = True\n",
    "            break\n",
    "    print(found)\n",
    "    # print hits\n",
    "    # print(json.dumps(res.body, indent=4, sort_keys=True))\n",
    "    # print(query)"
   ]
  }
 ],
 "metadata": {
  "language_info": {
   "name": "python"
  }
 },
 "nbformat": 4,
 "nbformat_minor": 2
}
