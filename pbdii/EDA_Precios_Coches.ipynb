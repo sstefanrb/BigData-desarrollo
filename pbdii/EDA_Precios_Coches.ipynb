{
 "cells": [
  {
   "cell_type": "markdown",
   "metadata": {},
   "source": [
    "### Imports Necesarios"
   ]
  },
  {
   "cell_type": "code",
   "execution_count": 2,
   "metadata": {},
   "outputs": [],
   "source": [
    "import pandas as pd\n",
    "import matplotlib.pyplot as plt\n",
    "import seaborn as sns\n",
    "import plotly.graph_objects as go"
   ]
  },
  {
   "cell_type": "code",
   "execution_count": 3,
   "metadata": {},
   "outputs": [
    {
     "name": "stderr",
     "output_type": "stream",
     "text": [
      "/var/folders/d_/k0sktyy51_v9gfr8ch8hd9bh0000gn/T/ipykernel_55212/849802119.py:1: DtypeWarning: Columns (13,19,21,22,23,27,33) have mixed types. Specify dtype option on import or set low_memory=False.\n",
      "  data = pd.read_csv(\"datos.csv\")\n"
     ]
    }
   ],
   "source": [
    "data = pd.read_csv(\"datos.csv\")\n",
    "\n",
    "data.head(100)\n",
    "\n",
    "data.head(100).to_csv(\"datos_100.csv\")"
   ]
  },
  {
   "cell_type": "code",
   "execution_count": 4,
   "metadata": {},
   "outputs": [
    {
     "data": {
      "text/plain": [
       "Index(['@timestamp', 'external_id', 'post_date', 'make', 'model', 'trimlevel',\n",
       "       'car_year', 'fueltype', 'transmission', 'km', 'bodytype', 'horse_power',\n",
       "       'cyl_capacity', 'traction', 'price', 'warranty', 'plate_type',\n",
       "       'ad_type', 'video_call_visible', 'status', 'seller', 'dealer_name',\n",
       "       'car_location', 'trade_in_flag', 'region', 'car_name', 'url',\n",
       "       'seller_gallery_url', 'seller_phone_number', 'damages', 'color', 'misc',\n",
       "       'folder_index', 'location'],\n",
       "      dtype='object')"
      ]
     },
     "execution_count": 4,
     "metadata": {},
     "output_type": "execute_result"
    }
   ],
   "source": [
    "# Mostrar Columnas\n",
    "\n",
    "data.columns"
   ]
  },
  {
   "cell_type": "code",
   "execution_count": 25,
   "metadata": {},
   "outputs": [
    {
     "name": "stdout",
     "output_type": "stream",
     "text": [
      "¡Gráfico de pastel de tipos de combustible guardado con éxito!\n"
     ]
    }
   ],
   "source": [
    "fueltype_counts = data['fueltype'].value_counts()\n",
    "\n",
    "fig = go.Figure(data=[go.Pie(labels=fueltype_counts.index, values=fueltype_counts.values, hole=.3)])\n",
    "\n",
    "#ocultar porcentaje\n",
    "\n",
    "fig.update_traces(textinfo='none')\n",
    "\n",
    "fig.update_layout(\n",
    "    title_text='Distribución de gasolina',  # Título del gráfico\n",
    "    annotations=[dict(text='Fuel Type', x=0.5, y=0.5, font_size=15, showarrow=False)]\n",
    ")\n",
    "\n",
    "# Guarda el gráfico como un archivo HTML\n",
    "fig.write_html('visualizacioneseda/distribucion_gasolina.html')\n",
    "\n",
    "print('¡Gráfico de pastel de tipos de combustible guardado con éxito!')"
   ]
  },
  {
   "cell_type": "code",
   "execution_count": 10,
   "metadata": {},
   "outputs": [],
   "source": [
    "make_counts = data['make'].value_counts()\n",
    "fig_make = go.Figure(data=[go.Bar(x=make_counts.index, y=make_counts.values, marker_color='blue')])\n",
    "fig_make.update_layout(\n",
    "    title='Distribución de marcas de autos',\n",
    "    xaxis_title='Marca',\n",
    "    yaxis_title='Cantidad',\n",
    "    plot_bgcolor='white'\n",
    ")\n",
    "fig_make.write_html('visualizacioneseda/make_distribution.html')"
   ]
  },
  {
   "cell_type": "code",
   "execution_count": 12,
   "metadata": {},
   "outputs": [
    {
     "name": "stdout",
     "output_type": "stream",
     "text": [
      "¡Proceso completado!\n"
     ]
    }
   ],
   "source": [
    "fig_km = go.Figure(data=[go.Box(y=data['km'], boxmean='sd', marker_color='purple')])\n",
    "fig_km.update_layout(\n",
    "    title='Distribución del kilometraje de los autos',\n",
    "    xaxis_title='Kilometraje (km)',\n",
    "    plot_bgcolor='white'\n",
    ")\n",
    "fig_km.write_html('visualizacioneseda/km_distribution.html')\n",
    "\n",
    "print('¡Proceso completado!')"
   ]
  },
  {
   "cell_type": "code",
   "execution_count": 15,
   "metadata": {},
   "outputs": [],
   "source": [
    "fig_year = go.Figure(data=[go.Histogram(x=data['car_year'], marker_color='green')])\n",
    "fig_year.update_layout(\n",
    "    title='Distribución de años de autos',\n",
    "    xaxis_title='Año del auto',\n",
    "    yaxis_title='Cantidad',\n",
    "    plot_bgcolor='white'\n",
    ")\n",
    "fig_year.write_html('visualizacioneseda/car_year_distribution.html')"
   ]
  },
  {
   "cell_type": "code",
   "execution_count": null,
   "metadata": {},
   "outputs": [],
   "source": []
  }
 ],
 "metadata": {
  "kernelspec": {
   "display_name": "base",
   "language": "python",
   "name": "python3"
  },
  "language_info": {
   "codemirror_mode": {
    "name": "ipython",
    "version": 3
   },
   "file_extension": ".py",
   "mimetype": "text/x-python",
   "name": "python",
   "nbconvert_exporter": "python",
   "pygments_lexer": "ipython3",
   "version": "3.9.6"
  }
 },
 "nbformat": 4,
 "nbformat_minor": 2
}
