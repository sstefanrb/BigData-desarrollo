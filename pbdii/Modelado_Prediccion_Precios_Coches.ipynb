{
 "cells": [
  {
   "cell_type": "code",
   "execution_count": 1,
   "metadata": {},
   "outputs": [],
   "source": [
    "import numpy as np\n",
    "import pandas as pd\n",
    "from sklearn.model_selection import train_test_split\n",
    "from sklearn.linear_model import LinearRegression, Lasso\n",
    "from sklearn.ensemble import RandomForestRegressor\n",
    "from sklearn.preprocessing import OneHotEncoder, StandardScaler\n",
    "from sklearn.compose import ColumnTransformer\n",
    "from sklearn.pipeline import Pipeline\n",
    "from sklearn.impute import SimpleImputer\n",
    "from sklearn.metrics import mean_squared_error, r2_score, mean_absolute_error"
   ]
  },
  {
   "cell_type": "code",
   "execution_count": 2,
   "metadata": {},
   "outputs": [
    {
     "name": "stderr",
     "output_type": "stream",
     "text": [
      "/var/folders/d_/k0sktyy51_v9gfr8ch8hd9bh0000gn/T/ipykernel_79434/446945312.py:2: DtypeWarning: Columns (13,19,21,22,23,27,33) have mixed types. Specify dtype option on import or set low_memory=False.\n",
      "  data = pd.read_csv('datos.csv')\n"
     ]
    },
    {
     "data": {
      "text/plain": [
       "(1510000, 34)"
      ]
     },
     "execution_count": 2,
     "metadata": {},
     "output_type": "execute_result"
    }
   ],
   "source": [
    "# Cargamos el dataset\n",
    "data = pd.read_csv('datos.csv')\n",
    "data.shape"
   ]
  },
  {
   "cell_type": "code",
   "execution_count": 3,
   "metadata": {},
   "outputs": [
    {
     "name": "stdout",
     "output_type": "stream",
     "text": [
      "      make    model        km fueltype transmission  horse_power   price  \\\n",
      "0     Fiat     Egea  110000.0   Benzin       Manuel         95.0  449000   \n",
      "1     Fiat     Egea   14200.0   Benzin       Manuel         95.0  485900   \n",
      "2   Nissan  Qashqai  103000.0    Dizel       Manuel        110.0  704900   \n",
      "3  Renault   Symbol  180000.0    Dizel       Manuel         90.0  246000   \n",
      "4     Fiat     Egea   74461.0    Dizel       Manuel         95.0  439500   \n",
      "\n",
      "   car_age  \n",
      "0        5  \n",
      "1        2  \n",
      "2        9  \n",
      "3       10  \n",
      "4        4  \n",
      "make            0\n",
      "model           0\n",
      "km              0\n",
      "fueltype        0\n",
      "transmission    0\n",
      "horse_power     0\n",
      "price           0\n",
      "car_age         0\n",
      "dtype: int64\n",
      "78822\n",
      "(1483344, 8)\n"
     ]
    }
   ],
   "source": [
    "# Seleccionar solo las columnas de interés\n",
    "columns_of_interest = ['make', 'model', 'car_year', 'km', 'fueltype', 'transmission', 'horse_power', 'price']\n",
    "data_selected = data[columns_of_interest].dropna()\n",
    "\n",
    "# Limpiar la columna 'horse_power' para eliminar texto y convertir a flotante\n",
    "data_selected = data_selected.dropna(subset=['horse_power'])\n",
    "\n",
    "# QUITAR TODO EL TEXTO DE LA COLUMNA HORSE_POWER\n",
    "\n",
    "data_selected['horse_power'] = data_selected['horse_power'].str.extract('(\\d+)').astype(float)\n",
    "\n",
    "# quitar todas las filas que tengan nans\n",
    "\n",
    "data_selected = data_selected.dropna()\n",
    "\n",
    "# Conversión de 'car_year' a edad del vehículo\n",
    "current_year = pd.to_datetime('today').year\n",
    "data_selected['car_age'] = current_year - data_selected['car_year']\n",
    "data_selected.drop('car_year', axis=1, inplace=True)\n",
    "\n",
    "# Imprimir las primeras filas para verificar la selección\n",
    "print(data_selected.head())\n",
    "\n",
    "# Verificación de valores nulos\n",
    "print(data_selected.isnull().sum())\n",
    "\n",
    "# Verificación de duplicados\n",
    "print(data_selected.duplicated().sum())\n",
    "\n",
    "# Ver numero de columnas y filas\n",
    "print(data_selected.shape)"
   ]
  },
  {
   "cell_type": "code",
   "execution_count": 4,
   "metadata": {},
   "outputs": [],
   "source": [
    "# División de datos\n",
    "X = data_selected.drop('price', axis=1)  # Características\n",
    "y = data_selected['price']  # Variable objetivo\n",
    "#X_train, X_test, y_train, y_test = train_test_split(X, y, test_size=0.2, random_state=42)"
   ]
  },
  {
   "cell_type": "code",
   "execution_count": 5,
   "metadata": {},
   "outputs": [],
   "source": [
    "# Preprocesamiento\n",
    "\n",
    "# Columnas categóricas\n",
    "\n",
    "categorical_features = ['make', 'model', 'fueltype', 'transmission']\n",
    "categorical_transformer = Pipeline(steps=[\n",
    "    ('imputer', SimpleImputer(strategy='constant', fill_value='missing')),\n",
    "    ('onehot', OneHotEncoder(handle_unknown='ignore'))])\n",
    "\n",
    "# Columnas numéricas\n",
    "\n",
    "numeric_features = ['km', 'horse_power', 'car_age']\n",
    "\n",
    "numeric_transformer = Pipeline(steps=[\n",
    "    ('imputer', SimpleImputer(strategy='mean')),\n",
    "    ('scaler', StandardScaler())])\n",
    "\n",
    "# Transformador de columnas\n",
    "\n",
    "preprocessor = ColumnTransformer(\n",
    "    transformers=[\n",
    "        ('num', numeric_transformer, numeric_features),\n",
    "        ('cat', categorical_transformer, categorical_features)])\n",
    "\n",
    "\n"
   ]
  },
  {
   "cell_type": "code",
   "execution_count": 6,
   "metadata": {},
   "outputs": [],
   "source": [
    "modelos_regresion = {\n",
    "    'Regresión Lineal': LinearRegression(),\n",
    "    'Gradient Boosting': RandomForestRegressor(n_estimators=100, random_state=42),\n",
    "}"
   ]
  },
  {
   "cell_type": "code",
   "execution_count": 7,
   "metadata": {},
   "outputs": [
    {
     "name": "stdout",
     "output_type": "stream",
     "text": [
      "Modelo: Regresión Lineal\n",
      "Coeficiente de determinación (R^2): 0.00952842303417023\n",
      "Error absoluto medio (MAE): 146792.27102228437\n",
      "\n",
      "\n"
     ]
    }
   ],
   "source": [
    "for name, model in modelos_regresion.items():\n",
    "    pipeline = Pipeline(steps=[('preprocessor', preprocessor),\n",
    "                               ('regressor', model)])\n",
    "    X_train, X_test, y_train, y_test = train_test_split(X, y, test_size=0.2, random_state=42)\n",
    "    pipeline.fit(X_train, y_train)  \n",
    "    y_pred = pipeline.predict(X_test) \n",
    "\n",
    "    r2 = r2_score(y_test, y_pred)\n",
    "    mae = mean_absolute_error(y_test, y_pred)\n",
    "    \n",
    "    print(f\"Modelo: {name}\")\n",
    "    print('Coeficiente de determinación (R^2):', r2)\n",
    "    print('Error absoluto medio (MAE):', mae)\n",
    "    print('\\n')"
   ]
  },
  {
   "cell_type": "code",
   "execution_count": null,
   "metadata": {},
   "outputs": [],
   "source": []
  }
 ],
 "metadata": {
  "kernelspec": {
   "display_name": "Python 3",
   "language": "python",
   "name": "python3"
  },
  "language_info": {
   "codemirror_mode": {
    "name": "ipython",
    "version": 3
   },
   "file_extension": ".py",
   "mimetype": "text/x-python",
   "name": "python",
   "nbconvert_exporter": "python",
   "pygments_lexer": "ipython3",
   "version": "3.9.6"
  }
 },
 "nbformat": 4,
 "nbformat_minor": 2
}
