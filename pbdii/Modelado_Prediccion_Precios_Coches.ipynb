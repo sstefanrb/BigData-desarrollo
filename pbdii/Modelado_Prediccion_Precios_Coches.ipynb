{
 "cells": [
  {
   "cell_type": "code",
   "execution_count": 2,
   "metadata": {},
   "outputs": [],
   "source": [
    "import numpy as np\n",
    "import pandas as pd\n",
    "from sklearn.model_selection import train_test_split\n",
    "from sklearn.linear_model import LinearRegression, Ridge, Lasso\n",
    "from sklearn.ensemble import RandomForestRegressor, GradientBoostingRegressor\n",
    "from sklearn.tree import DecisionTreeRegressor\n",
    "from sklearn.svm import SVR\n",
    "from sklearn.preprocessing import OneHotEncoder\n",
    "from sklearn.compose import ColumnTransformer\n",
    "from sklearn.pipeline import Pipeline\n",
    "from sklearn.impute import SimpleImputer\n",
    "from sklearn.metrics import mean_squared_error, r2_score, mean_absolute_error"
   ]
  },
  {
   "cell_type": "code",
   "execution_count": 3,
   "metadata": {},
   "outputs": [
    {
     "name": "stderr",
     "output_type": "stream",
     "text": [
      "/var/folders/d_/k0sktyy51_v9gfr8ch8hd9bh0000gn/T/ipykernel_59882/541755233.py:2: DtypeWarning: Columns (13,19,21,22,23,27,33) have mixed types. Specify dtype option on import or set low_memory=False.\n",
      "  data = pd.read_csv('datos.csv')\n"
     ]
    }
   ],
   "source": [
    "# Cargamos el dataset\n",
    "data = pd.read_csv('datos.csv')"
   ]
  },
  {
   "cell_type": "code",
   "execution_count": 4,
   "metadata": {},
   "outputs": [
    {
     "name": "stderr",
     "output_type": "stream",
     "text": [
      "/var/folders/d_/k0sktyy51_v9gfr8ch8hd9bh0000gn/T/ipykernel_59882/1043036385.py:13: FutureWarning: A value is trying to be set on a copy of a DataFrame or Series through chained assignment using an inplace method.\n",
      "The behavior will change in pandas 3.0. This inplace method will never work because the intermediate object on which we are setting values always behaves as a copy.\n",
      "\n",
      "For example, when doing 'df[col].method(value, inplace=True)', try using 'df.method({col: value}, inplace=True)' or df[col] = df[col].method(value) instead, to perform the operation inplace on the original object.\n",
      "\n",
      "\n",
      "  data_selected[column].fillna(mode, inplace=True)\n",
      "/var/folders/d_/k0sktyy51_v9gfr8ch8hd9bh0000gn/T/ipykernel_59882/1043036385.py:17: FutureWarning: A value is trying to be set on a copy of a DataFrame or Series through chained assignment using an inplace method.\n",
      "The behavior will change in pandas 3.0. This inplace method will never work because the intermediate object on which we are setting values always behaves as a copy.\n",
      "\n",
      "For example, when doing 'df[col].method(value, inplace=True)', try using 'df.method({col: value}, inplace=True)' or df[col] = df[col].method(value) instead, to perform the operation inplace on the original object.\n",
      "\n",
      "\n",
      "  data_selected[column].fillna(median, inplace=True)\n",
      "/var/folders/d_/k0sktyy51_v9gfr8ch8hd9bh0000gn/T/ipykernel_59882/1043036385.py:17: FutureWarning: A value is trying to be set on a copy of a DataFrame or Series through chained assignment using an inplace method.\n",
      "The behavior will change in pandas 3.0. This inplace method will never work because the intermediate object on which we are setting values always behaves as a copy.\n",
      "\n",
      "For example, when doing 'df[col].method(value, inplace=True)', try using 'df.method({col: value}, inplace=True)' or df[col] = df[col].method(value) instead, to perform the operation inplace on the original object.\n",
      "\n",
      "\n",
      "  data_selected[column].fillna(median, inplace=True)\n",
      "/var/folders/d_/k0sktyy51_v9gfr8ch8hd9bh0000gn/T/ipykernel_59882/1043036385.py:13: FutureWarning: A value is trying to be set on a copy of a DataFrame or Series through chained assignment using an inplace method.\n",
      "The behavior will change in pandas 3.0. This inplace method will never work because the intermediate object on which we are setting values always behaves as a copy.\n",
      "\n",
      "For example, when doing 'df[col].method(value, inplace=True)', try using 'df.method({col: value}, inplace=True)' or df[col] = df[col].method(value) instead, to perform the operation inplace on the original object.\n",
      "\n",
      "\n",
      "  data_selected[column].fillna(mode, inplace=True)\n",
      "/var/folders/d_/k0sktyy51_v9gfr8ch8hd9bh0000gn/T/ipykernel_59882/1043036385.py:17: FutureWarning: A value is trying to be set on a copy of a DataFrame or Series through chained assignment using an inplace method.\n",
      "The behavior will change in pandas 3.0. This inplace method will never work because the intermediate object on which we are setting values always behaves as a copy.\n",
      "\n",
      "For example, when doing 'df[col].method(value, inplace=True)', try using 'df.method({col: value}, inplace=True)' or df[col] = df[col].method(value) instead, to perform the operation inplace on the original object.\n",
      "\n",
      "\n",
      "  data_selected[column].fillna(median, inplace=True)\n"
     ]
    },
    {
     "name": "stdout",
     "output_type": "stream",
     "text": [
      "      make    model          trimlevel        km          bodytype fueltype  \\\n",
      "0     Fiat     Egea    1.4 Fire Street  110000.0  Hatchback 5 kapi   Benzin   \n",
      "1     Fiat     Egea    1.4 Fire Street   14200.0  Hatchback 5 kapi   Benzin   \n",
      "2   Nissan  Qashqai   1.5 dCi Sky Pack  103000.0               SUV    Dizel   \n",
      "3  Renault   Symbol        1.5 DCI Joy  180000.0             Sedan    Dizel   \n",
      "4     Fiat     Egea  1.3 Multijet Easy   74461.0             Sedan    Dizel   \n",
      "\n",
      "  transmission  color horse_power cyl_capacity   price  car_age  \n",
      "0       Manuel  Beyaz       95 hp      1368 cc  449000        5  \n",
      "1       Manuel  Beyaz       95 hp      1368 cc  485900        2  \n",
      "2       Manuel  Beyaz      110 hp      1461 cc  704900        9  \n",
      "3       Manuel  Beyaz       90 hp      1461 cc  246000       10  \n",
      "4       Manuel  Beyaz       95 hp      1248 cc  439500        4  \n",
      "make            0\n",
      "model           0\n",
      "trimlevel       0\n",
      "km              0\n",
      "bodytype        0\n",
      "fueltype        0\n",
      "transmission    0\n",
      "color           0\n",
      "horse_power     0\n",
      "cyl_capacity    0\n",
      "price           0\n",
      "car_age         0\n",
      "dtype: int64\n",
      "59285\n"
     ]
    }
   ],
   "source": [
    "# Seleccionamos solo las columnas de interés\n",
    "columns_of_interest = ['make', 'model', 'trimlevel', 'car_year', 'km', 'bodytype', 'fueltype', 'transmission', 'color', 'horse_power', 'cyl_capacity', 'price']\n",
    "data_selected = data[columns_of_interest]\n",
    "\n",
    "# Eliminar filas con valores nulos en 'price' ya que es nuestra variable objetivo\n",
    "data_selected = data_selected.dropna(subset=['price'])\n",
    "\n",
    "# Tratamiento de valores nulos en características\n",
    "for column in data_selected.columns:\n",
    "    # Para características categóricas, usamos la moda\n",
    "    if data_selected[column].dtype == 'object':\n",
    "        mode = data_selected[column].mode()[0]\n",
    "        data_selected[column].fillna(mode, inplace=True)\n",
    "    # Para características numéricas, usamos la mediana\n",
    "    else:\n",
    "        median = data_selected[column].median()\n",
    "        data_selected[column].fillna(median, inplace=True)\n",
    "\n",
    "# Conversión de 'car_year' a edad del vehículo\n",
    "current_year = pd.to_datetime('today').year\n",
    "data_selected['car_age'] = current_year - data_selected['car_year']\n",
    "data_selected.drop('car_year', axis=1, inplace=True)\n",
    "\n",
    "# Imprimir las primeras filas para verificar la selección\n",
    "print(data_selected.head())\n",
    "\n",
    "# Verificación de valores nulos\n",
    "print(data_selected.isnull().sum())\n",
    "\n",
    "# Verificación de duplicados\n",
    "print(data_selected.duplicated().sum())"
   ]
  },
  {
   "cell_type": "code",
   "execution_count": 5,
   "metadata": {},
   "outputs": [],
   "source": [
    "# División de datos\n",
    "X = data_selected.drop('price', axis=1)  # Características\n",
    "y = data_selected['price']  # Variable objetivo\n",
    "X_train, X_test, y_train, y_test = train_test_split(X, y, test_size=0.2, random_state=42)"
   ]
  },
  {
   "cell_type": "code",
   "execution_count": 6,
   "metadata": {},
   "outputs": [],
   "source": [
    "# Transformaciones para las características categóricas\n",
    "categorical_features = ['make', 'model', 'trimlevel', 'fueltype', 'transmission', 'bodytype', 'color']\n",
    "\n",
    "# Definimos los transformadores\n",
    "categorical_transformer = Pipeline(steps=[\n",
    "    ('imputer', SimpleImputer(strategy='most_frequent')),\n",
    "    ('onehot', OneHotEncoder(handle_unknown='ignore'))\n",
    "])\n",
    "\n",
    "# Combinamos los transformadores\n",
    "preprocessor = ColumnTransformer(\n",
    "    transformers=[\n",
    "        ('cat', categorical_transformer, categorical_features)\n",
    "    ])"
   ]
  },
  {
   "cell_type": "code",
   "execution_count": 7,
   "metadata": {},
   "outputs": [],
   "source": [
    "# Inicialización de los modelos de regresión\n",
    "modelos_regresion = {\n",
    "    'Regresión Lineal': LinearRegression(),\n",
    "    'Ridge': Ridge(),\n",
    "    'Lasso': Lasso(),\n",
    "    'Random Forest Regresor': RandomForestRegressor(random_state=42, n_estimators=100),\n",
    "    'Gradient Boosting Regresor': GradientBoostingRegressor(random_state=42, n_estimators=100),\n",
    "    'Árbol de decisión': DecisionTreeRegressor(random_state=42),\n",
    "    'SVR': SVR()\n",
    "}"
   ]
  },
  {
   "cell_type": "code",
   "execution_count": 8,
   "metadata": {},
   "outputs": [
    {
     "name": "stdout",
     "output_type": "stream",
     "text": [
      "Modelo: Regresión Lineal\n",
      "Error cuadrático medio (MSE): 18434456882551.375\n",
      "Coeficiente de determinación (R^2): 0.007777415658875908\n",
      "Error absoluto medio (MAE): 140713.917079941\n",
      "\n",
      "\n",
      "Modelo: Ridge\n",
      "Error cuadrático medio (MSE): 18435366564842.44\n",
      "Coeficiente de determinación (R^2): 0.007728452604552016\n",
      "Error absoluto medio (MAE): 141155.32875139787\n",
      "\n",
      "\n"
     ]
    }
   ],
   "source": [
    "# Entrenamiento y evaluación de modelos de regresión\n",
    "for name, model in modelos_regresion.items():\n",
    "    pipeline = Pipeline(steps=[('preprocessor', preprocessor),\n",
    "                               ('regressor', model)])\n",
    "    pipeline.fit(X_train, y_train)  # Entrenamiento\n",
    "    y_pred = pipeline.predict(X_test)  # Predicción\n",
    "    \n",
    "    mse = mean_squared_error(y_test, y_pred)\n",
    "    r2 = r2_score(y_test, y_pred)\n",
    "    mae = mean_absolute_error(y_test, y_pred)\n",
    "    \n",
    "    print(f\"Modelo: {name}\")\n",
    "    print('Error cuadrático medio (MSE):', mse)\n",
    "    print('Coeficiente de determinación (R^2):', r2)\n",
    "    print('Error absoluto medio (MAE):', mae)\n",
    "    print('\\n')"
   ]
  },
  {
   "cell_type": "code",
   "execution_count": null,
   "metadata": {},
   "outputs": [],
   "source": []
  }
 ],
 "metadata": {
  "language_info": {
   "name": "python"
  }
 },
 "nbformat": 4,
 "nbformat_minor": 2
}
