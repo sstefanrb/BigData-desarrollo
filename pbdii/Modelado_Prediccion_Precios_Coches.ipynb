{
 "cells": [
  {
   "cell_type": "code",
   "execution_count": 2,
   "metadata": {},
   "outputs": [],
   "source": [
    "import numpy as np\n",
    "import pandas as pd\n",
    "from sklearn.model_selection import train_test_split\n",
    "from sklearn.linear_model import LinearRegression\n",
    "from sklearn.neighbors import KNeighborsRegressor\n",
    "from sklearn.ensemble import RandomForestRegressor\n",
    "from sklearn.preprocessing import OneHotEncoder, StandardScaler\n",
    "from sklearn.compose import ColumnTransformer\n",
    "from sklearn.model_selection import GridSearchCV\n",
    "from sklearn.pipeline import Pipeline\n",
    "from sklearn.impute import SimpleImputer\n",
    "from sklearn.metrics import mean_squared_error, r2_score, mean_absolute_error\n",
    "import pickle"
   ]
  },
  {
   "cell_type": "code",
   "execution_count": 9,
   "metadata": {},
   "outputs": [
    {
     "name": "stderr",
     "output_type": "stream",
     "text": [
      "C:\\Users\\sstef\\AppData\\Local\\Temp\\ipykernel_4200\\1378660735.py:2: DtypeWarning: Columns (13,19,21,22,23,27,33) have mixed types. Specify dtype option on import or set low_memory=False.\n",
      "  data = pd.read_csv('datos.csv')\n"
     ]
    },
    {
     "data": {
      "text/plain": [
       "(10000, 34)"
      ]
     },
     "execution_count": 9,
     "metadata": {},
     "output_type": "execute_result"
    }
   ],
   "source": [
    "# Cargamos el dataset\n",
    "data = pd.read_csv('datos.csv')\n",
    "\n",
    "#sample de 10000 registros\n",
    "\n",
    "data = data.sample(10000)\n",
    "data.shape"
   ]
  },
  {
   "cell_type": "code",
   "execution_count": 10,
   "metadata": {},
   "outputs": [
    {
     "name": "stdout",
     "output_type": "stream",
     "text": [
      "                    make     model        km      fueltype   transmission  \\\n",
      "1295727          Renault    Captur   90000.0        Benzin  Yari Otomatik   \n",
      "1065411          Hyundai      Kona   29500.0         Dizel       Otomatik   \n",
      "550213   Mercedes - Benz  C Serisi  195000.0        Benzin  Yari Otomatik   \n",
      "1119884            Honda     Civic   87500.0  Benzin & LPG       Otomatik   \n",
      "749467           Hyundai       i20  165000.0  Benzin & LPG         Manuel   \n",
      "\n",
      "         horse_power   price  car_age  \n",
      "1295727        120.0  504900        6  \n",
      "1065411        136.0  825000        4  \n",
      "550213         156.0  840000       10  \n",
      "1119884        125.0  645000        6  \n",
      "749467          85.0  356000       12  \n",
      "make            0\n",
      "model           0\n",
      "km              0\n",
      "fueltype        0\n",
      "transmission    0\n",
      "horse_power     0\n",
      "price           0\n",
      "car_age         0\n",
      "dtype: int64\n",
      "42\n",
      "(9816, 8)\n"
     ]
    }
   ],
   "source": [
    "# Seleccionar solo las columnas de interés\n",
    "columns_of_interest = ['make', 'model', 'car_year', 'km', 'fueltype', 'transmission', 'horse_power', 'price']\n",
    "data_selected = data[columns_of_interest].dropna()\n",
    "\n",
    "# Limpiar la columna 'horse_power' para eliminar texto y convertir a flotante\n",
    "data_selected = data_selected.dropna(subset=['horse_power'])\n",
    "\n",
    "# QUITAR TODO EL TEXTO DE LA COLUMNA HORSE_POWER\n",
    "\n",
    "data_selected['horse_power'] = data_selected['horse_power'].str.extract('(\\d+)').astype(float)\n",
    "\n",
    "# quitar todas las filas que tengan nans\n",
    "\n",
    "data_selected = data_selected.dropna()\n",
    "\n",
    "# Conversión de 'car_year' a edad del vehículo\n",
    "current_year = pd.to_datetime('today').year\n",
    "data_selected['car_age'] = current_year - data_selected['car_year']\n",
    "data_selected.drop('car_year', axis=1, inplace=True)\n",
    "\n",
    "# Imprimir las primeras filas para verificar la selección\n",
    "print(data_selected.head())\n",
    "\n",
    "# Verificación de valores nulos\n",
    "print(data_selected.isnull().sum())\n",
    "\n",
    "# Verificación de duplicados\n",
    "print(data_selected.duplicated().sum())\n",
    "\n",
    "# Ver numero de columnas y filas\n",
    "print(data_selected.shape)"
   ]
  },
  {
   "cell_type": "code",
   "execution_count": 11,
   "metadata": {},
   "outputs": [],
   "source": [
    "# División de datos\n",
    "X = data_selected.drop('price', axis=1)  # Características\n",
    "y = data_selected['price']  # Variable objetivo\n",
    "X_train, X_test, y_train, y_test = train_test_split(X, y, test_size=0.2, random_state=42)"
   ]
  },
  {
   "cell_type": "code",
   "execution_count": 12,
   "metadata": {},
   "outputs": [],
   "source": [
    "# Preprocesamiento\n",
    "\n",
    "# Columnas categóricas\n",
    "\n",
    "categorical_features = ['make', 'model', 'fueltype', 'transmission']\n",
    "categorical_transformer = Pipeline(steps=[\n",
    "    ('imputer', SimpleImputer(strategy='constant', fill_value='missing')),\n",
    "    ('onehot', OneHotEncoder(handle_unknown='ignore'))])\n",
    "\n",
    "# Columnas numéricas\n",
    "\n",
    "numeric_features = ['km', 'horse_power', 'car_age']\n",
    "\n",
    "numeric_transformer = Pipeline(steps=[\n",
    "    ('imputer', SimpleImputer(strategy='mean')),\n",
    "    ('scaler', StandardScaler())])\n",
    "\n",
    "# Transformador de columnas\n",
    "\n",
    "preprocessor = ColumnTransformer(\n",
    "    transformers=[\n",
    "        ('num', numeric_transformer, numeric_features),\n",
    "        ('cat', categorical_transformer, categorical_features)])\n",
    "\n",
    "\n"
   ]
  },
  {
   "cell_type": "markdown",
   "metadata": {},
   "source": [
    "# Prueba Modelos"
   ]
  },
  {
   "cell_type": "code",
   "execution_count": 13,
   "metadata": {},
   "outputs": [],
   "source": [
    "modelos_regresion = {\n",
    "    'Regresión Lineal': LinearRegression(),\n",
    "    'K-Nearest Neighbors': KNeighborsRegressor(),\n",
    "    'Random Forest': RandomForestRegressor()\n",
    "}\n",
    "\n",
    "parametros = {\n",
    "    'K-Nearest Neighbors': {'regressor__n_neighbors': [20, 30,40, 50]},\n",
    "}\n"
   ]
  },
  {
   "cell_type": "code",
   "execution_count": 15,
   "metadata": {},
   "outputs": [
    {
     "name": "stdout",
     "output_type": "stream",
     "text": [
      "Modelo: Regresión Lineal\n",
      "Coeficiente de determinación (R^2): 0.4449242751529865\n",
      "Error absoluto medio (MAE): 166051.00564948027\n",
      "\n",
      "\n",
      "Modelo: K-Nearest Neighbors\n",
      "Coeficiente de determinación (R^2): 0.6541619417493498\n",
      "Error absoluto medio (MAE): 113655.12199592667\n",
      "\n",
      "\n",
      "Modelo: Random Forest\n",
      "Coeficiente de determinación (R^2): 0.6513285554714369\n",
      "Error absoluto medio (MAE): 110672.86318902952\n",
      "\n",
      "\n"
     ]
    }
   ],
   "source": [
    "for name, model in modelos_regresion.items():\n",
    "    pipeline = Pipeline(steps=[('preprocessor', preprocessor),\n",
    "                               ('regressor', model)])\n",
    "    X_train, X_test, y_train, y_test = train_test_split(X, y, test_size=0.1, random_state=42)\n",
    "    pipeline.fit(X_train, y_train)  \n",
    "    y_pred = pipeline.predict(X_test) \n",
    "\n",
    "    r2 = r2_score(y_test, y_pred)\n",
    "    mae = mean_absolute_error(y_test, y_pred)\n",
    "    \n",
    "    print(f\"Modelo: {name}\")\n",
    "    print('Coeficiente de determinación (R^2):', r2)\n",
    "    print('Error absoluto medio (MAE):', mae)\n",
    "    print('\\n')"
   ]
  },
  {
   "cell_type": "code",
   "execution_count": 14,
   "metadata": {},
   "outputs": [
    {
     "name": "stdout",
     "output_type": "stream",
     "text": [
      "Modelo: K-Nearest Neighbors, Vecinos: 20\n",
      "Coeficiente de determinación (R^2): 0.5961609485663689\n",
      "Error absoluto medio (MAE): 119964.80066191446\n",
      "\n",
      "\n",
      "Modelo: K-Nearest Neighbors, Vecinos: 30\n",
      "Coeficiente de determinación (R^2): 0.548277944051315\n",
      "Error absoluto medio (MAE): 124406.35984385609\n",
      "\n",
      "\n",
      "Modelo: K-Nearest Neighbors, Vecinos: 40\n",
      "Coeficiente de determinación (R^2): 0.5158184237119294\n",
      "Error absoluto medio (MAE): 127747.48447046844\n",
      "\n",
      "\n",
      "Modelo: K-Nearest Neighbors, Vecinos: 50\n",
      "Coeficiente de determinación (R^2): 0.4880179651909652\n",
      "Error absoluto medio (MAE): 130938.75960285132\n",
      "\n",
      "\n"
     ]
    }
   ],
   "source": [
    "for name, params in parametros.items():\n",
    "    for n_neighbors in params['regressor__n_neighbors']:\n",
    "        pipeline = Pipeline(steps=[('preprocessor', preprocessor),\n",
    "                                   ('regressor', KNeighborsRegressor(n_neighbors=n_neighbors))])\n",
    "        pipeline.fit(X_train, y_train)\n",
    "        y_pred = pipeline.predict(X_test)\n",
    "        r2 = r2_score(y_test, y_pred)\n",
    "        mae = mean_absolute_error(y_test, y_pred)\n",
    "        print(f\"Modelo: {name}, Vecinos: {n_neighbors}\")\n",
    "        print('Coeficiente de determinación (R^2):', r2)\n",
    "        print('Error absoluto medio (MAE):', mae)\n",
    "        print('\\n')"
   ]
  },
  {
   "cell_type": "markdown",
   "metadata": {},
   "source": [
    "# Modelo Final"
   ]
  },
  {
   "cell_type": "code",
   "execution_count": null,
   "metadata": {},
   "outputs": [],
   "source": []
  }
 ],
 "metadata": {
  "kernelspec": {
   "display_name": "Python 3",
   "language": "python",
   "name": "python3"
  },
  "language_info": {
   "codemirror_mode": {
    "name": "ipython",
    "version": 3
   },
   "file_extension": ".py",
   "mimetype": "text/x-python",
   "name": "python",
   "nbconvert_exporter": "python",
   "pygments_lexer": "ipython3",
   "version": "3.10.9"
  }
 },
 "nbformat": 4,
 "nbformat_minor": 2
}
