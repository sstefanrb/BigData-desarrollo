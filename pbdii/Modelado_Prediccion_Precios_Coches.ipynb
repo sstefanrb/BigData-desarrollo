{
 "cells": [
  {
   "cell_type": "code",
   "execution_count": 11,
   "metadata": {},
   "outputs": [],
   "source": [
    "import numpy as np\n",
    "import pandas as pd\n",
    "from sklearn.model_selection import train_test_split\n",
    "from sklearn.linear_model import LinearRegression, Ridge, Lasso\n",
    "from sklearn.ensemble import RandomForestRegressor, GradientBoostingRegressor\n",
    "from sklearn.tree import DecisionTreeRegressor\n",
    "from sklearn.svm import SVR\n",
    "from sklearn.preprocessing import OneHotEncoder\n",
    "from sklearn.compose import ColumnTransformer\n",
    "from sklearn.pipeline import Pipeline\n",
    "from sklearn.impute import SimpleImputer\n",
    "from sklearn.metrics import mean_squared_error, r2_score, mean_absolute_error"
   ]
  },
  {
   "cell_type": "code",
   "execution_count": 12,
   "metadata": {},
   "outputs": [
    {
     "name": "stderr",
     "output_type": "stream",
     "text": [
      "/var/folders/d_/k0sktyy51_v9gfr8ch8hd9bh0000gn/T/ipykernel_64851/446945312.py:2: DtypeWarning: Columns (13,19,21,22,23,27,33) have mixed types. Specify dtype option on import or set low_memory=False.\n",
      "  data = pd.read_csv('datos.csv')\n"
     ]
    },
    {
     "data": {
      "text/plain": [
       "(1510000, 34)"
      ]
     },
     "execution_count": 12,
     "metadata": {},
     "output_type": "execute_result"
    }
   ],
   "source": [
    "# Cargamos el dataset\n",
    "data = pd.read_csv('datos.csv')\n",
    "data.shape"
   ]
  },
  {
   "cell_type": "code",
   "execution_count": 13,
   "metadata": {},
   "outputs": [
    {
     "name": "stdout",
     "output_type": "stream",
     "text": [
      "      make    model          trimlevel        km          bodytype fueltype  \\\n",
      "0     Fiat     Egea    1.4 Fire Street  110000.0  Hatchback 5 kapi   Benzin   \n",
      "1     Fiat     Egea    1.4 Fire Street   14200.0  Hatchback 5 kapi   Benzin   \n",
      "2   Nissan  Qashqai   1.5 dCi Sky Pack  103000.0               SUV    Dizel   \n",
      "3  Renault   Symbol        1.5 DCI Joy  180000.0             Sedan    Dizel   \n",
      "4     Fiat     Egea  1.3 Multijet Easy   74461.0             Sedan    Dizel   \n",
      "\n",
      "  transmission  color horse_power cyl_capacity   price  car_age  \n",
      "0       Manuel  Beyaz       95 hp      1368 cc  449000        5  \n",
      "1       Manuel  Beyaz       95 hp      1368 cc  485900        2  \n",
      "2       Manuel  Beyaz      110 hp      1461 cc  704900        9  \n",
      "3       Manuel  Beyaz       90 hp      1461 cc  246000       10  \n",
      "4       Manuel  Beyaz       95 hp      1248 cc  439500        4  \n",
      "make            0\n",
      "model           0\n",
      "trimlevel       0\n",
      "km              2\n",
      "bodytype        0\n",
      "fueltype        0\n",
      "transmission    0\n",
      "color           0\n",
      "horse_power     0\n",
      "cyl_capacity    0\n",
      "price           0\n",
      "car_age         0\n",
      "dtype: int64\n",
      "57884\n",
      "(1467171, 12)\n"
     ]
    }
   ],
   "source": [
    "# Seleccionamos solo las columnas de interés\n",
    "columns_of_interest = ['make', 'model', 'trimlevel', 'car_year', 'km', 'bodytype', 'fueltype', 'transmission', 'color', 'horse_power', 'cyl_capacity', 'price']\n",
    "data_selected = data[columns_of_interest]\n",
    "\n",
    "# Eliminar filas con valores nulos en 'price' ya que es nuestra variable objetivo\n",
    "data_selected = data_selected.dropna(subset=['price'])\n",
    "\n",
    "# Eliminar filas con valores nulos en 'horse_power' y 'cyl_capacity'\n",
    "\n",
    "data_selected = data_selected.dropna(subset=['horse_power', 'cyl_capacity'])\n",
    "\n",
    "# Eliminar filas con valores nulos en 'make', 'model', 'trimlevel', 'bodytype', 'fueltype', 'transmission', 'color'\n",
    "\n",
    "data_selected = data_selected.dropna(subset=['make', 'model', 'trimlevel', 'bodytype', 'fueltype', 'transmission', 'color'])\n",
    "\n",
    "# Conversión de 'car_year' a edad del vehículo\n",
    "current_year = pd.to_datetime('today').year\n",
    "data_selected['car_age'] = current_year - data_selected['car_year']\n",
    "data_selected.drop('car_year', axis=1, inplace=True)\n",
    "\n",
    "# Imprimir las primeras filas para verificar la selección\n",
    "print(data_selected.head())\n",
    "\n",
    "# Verificación de valores nulos\n",
    "print(data_selected.isnull().sum())\n",
    "\n",
    "# Verificación de duplicados\n",
    "print(data_selected.duplicated().sum())\n",
    "\n",
    "# Ver numero de columnas y filas\n",
    "print(data_selected.shape)"
   ]
  },
  {
   "cell_type": "code",
   "execution_count": 14,
   "metadata": {},
   "outputs": [],
   "source": [
    "# División de datos\n",
    "X = data_selected.drop('price', axis=1)  # Características\n",
    "y = data_selected['price']  # Variable objetivo\n",
    "X_train, X_test, y_train, y_test = train_test_split(X, y, test_size=0.2, random_state=42)"
   ]
  },
  {
   "cell_type": "code",
   "execution_count": 15,
   "metadata": {},
   "outputs": [],
   "source": [
    "# Transformaciones para las características categóricas\n",
    "categorical_features = ['make', 'model', 'trimlevel', 'fueltype', 'transmission', 'bodytype', 'color']\n",
    "\n",
    "# Definimos los transformadores\n",
    "categorical_transformer = Pipeline(steps=[\n",
    "    ('imputer', SimpleImputer(strategy='most_frequent')),\n",
    "    ('onehot', OneHotEncoder(handle_unknown='ignore'))\n",
    "])\n",
    "\n",
    "# Combinamos los transformadores\n",
    "preprocessor = ColumnTransformer(\n",
    "    transformers=[\n",
    "        ('cat', categorical_transformer, categorical_features)\n",
    "    ])"
   ]
  },
  {
   "cell_type": "code",
   "execution_count": 16,
   "metadata": {},
   "outputs": [],
   "source": [
    "# Inicialización de los modelos de regresión\n",
    "modelos_regresion = {\n",
    "    'Regresión Lineal': LinearRegression(),\n",
    "    'Gradient Boosting Regresor': GradientBoostingRegressor(random_state=42, n_estimators=100),\n",
    "}"
   ]
  },
  {
   "cell_type": "code",
   "execution_count": 17,
   "metadata": {},
   "outputs": [
    {
     "name": "stdout",
     "output_type": "stream",
     "text": [
      "Modelo: Regresión Lineal\n",
      "Error cuadrático medio (MSE): 23710768075979.46\n",
      "Coeficiente de determinación (R^2): 0.006061041228429653\n",
      "Error absoluto medio (MAE): 140044.23828436367\n",
      "\n",
      "\n",
      "Modelo: Gradient Boosting Regresor\n",
      "Error cuadrático medio (MSE): 23756833142893.535\n",
      "Coeficiente de determinación (R^2): 0.0041300255608814895\n",
      "Error absoluto medio (MAE): 205549.15328921593\n",
      "\n",
      "\n"
     ]
    }
   ],
   "source": [
    "# Entrenamiento y evaluación de modelos de regresión\n",
    "for name, model in modelos_regresion.items():\n",
    "    pipeline = Pipeline(steps=[('preprocessor', preprocessor),\n",
    "                               ('regressor', model)])\n",
    "    pipeline.fit(X_train, y_train)  # Entrenamiento\n",
    "    y_pred = pipeline.predict(X_test)  # Predicción\n",
    "    \n",
    "    mse = mean_squared_error(y_test, y_pred)\n",
    "    r2 = r2_score(y_test, y_pred)\n",
    "    mae = mean_absolute_error(y_test, y_pred)\n",
    "    \n",
    "    print(f\"Modelo: {name}\")\n",
    "    print('Error cuadrático medio (MSE):', mse)\n",
    "    print('Coeficiente de determinación (R^2):', r2)\n",
    "    print('Error absoluto medio (MAE):', mae)\n",
    "    print('\\n')"
   ]
  },
  {
   "cell_type": "code",
   "execution_count": null,
   "metadata": {},
   "outputs": [],
   "source": []
  }
 ],
 "metadata": {
  "language_info": {
   "name": "python"
  }
 },
 "nbformat": 4,
 "nbformat_minor": 2
}
