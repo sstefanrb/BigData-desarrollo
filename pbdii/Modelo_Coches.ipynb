{
 "cells": [
  {
   "cell_type": "code",
   "execution_count": 2,
   "metadata": {},
   "outputs": [],
   "source": [
    "import pandas as pd\n",
    "from sklearn.model_selection import train_test_split\n",
    "from sklearn.pipeline import Pipeline\n",
    "from sklearn.compose import ColumnTransformer\n",
    "from sklearn.preprocessing import OneHotEncoder, StandardScaler\n",
    "from sklearn.impute import SimpleImputer\n",
    "import xgboost as xgb\n",
    "from xgboost import XGBRegressor\n",
    "import joblib\n",
    "from sklearn.neighbors import KNeighborsRegressor\n",
    "from sklearn.ensemble import RandomForestRegressor\n",
    "from sklearn.ensemble import GradientBoostingRegressor\n",
    "from sklearn.metrics import mean_absolute_error, r2_score"
   ]
  },
  {
   "cell_type": "code",
   "execution_count": 3,
   "metadata": {},
   "outputs": [
    {
     "name": "stderr",
     "output_type": "stream",
     "text": [
      "/var/folders/d_/k0sktyy51_v9gfr8ch8hd9bh0000gn/T/ipykernel_79784/4017391888.py:1: DtypeWarning: Columns (13,19,21,22,23,27,33) have mixed types. Specify dtype option on import or set low_memory=False.\n",
      "  data = pd.read_csv('datos.csv')\n"
     ]
    }
   ],
   "source": [
    "data = pd.read_csv('datos.csv')"
   ]
  },
  {
   "cell_type": "code",
   "execution_count": 4,
   "metadata": {},
   "outputs": [],
   "source": [
    "data['car_age'] = pd.to_datetime('today').year - data['car_year']\n",
    "data.drop(['car_year'], axis=1, inplace=True)\n",
    "data['horse_power'] = data['horse_power'].str.extract('(\\d+)').astype(float)"
   ]
  },
  {
   "cell_type": "code",
   "execution_count": 5,
   "metadata": {},
   "outputs": [],
   "source": [
    "columns_of_interest = ['make', 'model', 'km', 'fueltype', 'transmission', 'horse_power', 'car_age', 'price']\n",
    "data = data[columns_of_interest]"
   ]
  },
  {
   "cell_type": "code",
   "execution_count": 6,
   "metadata": {},
   "outputs": [],
   "source": [
    "def remove_outliers(data, column):\n",
    "    Q1 = data[column].quantile(0.25)\n",
    "    Q3 = data[column].quantile(0.75)\n",
    "    IQR = Q3 - Q1\n",
    "    lower_bound = Q1 - 1.5 * IQR\n",
    "    upper_bound = Q3 + 1.5 * IQR\n",
    "    data = data[(data[column] >= lower_bound) & (data[column] <= upper_bound)]\n",
    "    return data\n",
    "\n",
    "data = remove_outliers(data, 'price')\n",
    "data = remove_outliers(data, 'km')\n",
    "data = remove_outliers(data, 'car_age')"
   ]
  },
  {
   "cell_type": "code",
   "execution_count": 7,
   "metadata": {},
   "outputs": [],
   "source": [
    "data.dropna(inplace=True)\n",
    "\n",
    "data.shape\n",
    "\n",
    "data.to_csv('datos_procesados.csv', index=False)"
   ]
  },
  {
   "cell_type": "code",
   "execution_count": 8,
   "metadata": {},
   "outputs": [],
   "source": [
    "X = data.drop('price', axis=1)\n",
    "y = data['price']"
   ]
  },
  {
   "cell_type": "code",
   "execution_count": 9,
   "metadata": {},
   "outputs": [],
   "source": [
    "X_train, X_test, y_train, y_test = train_test_split(X, y, test_size=0.05, random_state=42)"
   ]
  },
  {
   "cell_type": "code",
   "execution_count": 10,
   "metadata": {},
   "outputs": [],
   "source": [
    "categorical_features = ['make', 'model', 'fueltype', 'transmission']\n",
    "numeric_features = ['km', 'horse_power', 'car_age']"
   ]
  },
  {
   "cell_type": "code",
   "execution_count": 11,
   "metadata": {},
   "outputs": [],
   "source": [
    "categorical_transformer = Pipeline(steps=[\n",
    "    ('imputer', SimpleImputer(strategy='constant', fill_value='missing')),\n",
    "    ('onehot', OneHotEncoder(handle_unknown='ignore'))])\n",
    "\n",
    "numeric_transformer = Pipeline(steps=[\n",
    "    ('imputer', SimpleImputer(strategy='mean')),\n",
    "    ('scaler', StandardScaler())])\n",
    "\n",
    "preprocessor = ColumnTransformer(\n",
    "    transformers=[\n",
    "        ('num', numeric_transformer, numeric_features),\n",
    "        ('cat', categorical_transformer, categorical_features)])"
   ]
  },
  {
   "cell_type": "code",
   "execution_count": 11,
   "metadata": {},
   "outputs": [],
   "source": [
    "modelos = [\n",
    "    ('XGB Regressor', XGBRegressor(objective='reg:squarederror')),\n",
    "    ('Gradient Boosting Regressor', GradientBoostingRegressor()),\n",
    "    ('K-nearest Neighbors Regressor', KNeighborsRegressor()),\n",
    "    #('Random Forest Regressor', RandomForestRegressor()),\n",
    "]"
   ]
  },
  {
   "cell_type": "code",
   "execution_count": 36,
   "metadata": {},
   "outputs": [
    {
     "name": "stdout",
     "output_type": "stream",
     "text": [
      "XGB Regressor - Error Absoluto Medio: 60058.59873405982, R2 Score: 0.8586882224023054\n",
      "Gradient Boosting Regressor - Error Absoluto Medio: 73527.72965957753, R2 Score: 0.7937418432289671\n",
      "K-nearest Neighbors Regressor - Error Absoluto Medio: 58004.632573787596, R2 Score: 0.8613889905016296\n"
     ]
    }
   ],
   "source": [
    "resultados = []\n",
    "for nombre, modelo in modelos:\n",
    "    pipeline = Pipeline(steps=[('preprocessor', preprocessor),\n",
    "                               ('regressor', modelo)])\n",
    "    pipeline.fit(X_train, y_train)\n",
    "    y_pred = pipeline.predict(X_test)\n",
    "    mae = mean_absolute_error(y_test, y_pred)\n",
    "    r2 = r2_score(y_test, y_pred)\n",
    "    resultados.append((nombre, mae, r2))\n",
    "    print(f'{nombre} - Error Absoluto Medio: {mae}, R2 Score: {r2}')"
   ]
  },
  {
   "cell_type": "code",
   "execution_count": 12,
   "metadata": {},
   "outputs": [
    {
     "name": "stdout",
     "output_type": "stream",
     "text": [
      "Error Absoluto Medio: 59853.62993355811, R2 Score: 0.8599547922819029\n"
     ]
    },
    {
     "data": {
      "text/plain": [
       "['../webpage/modelo.pkl']"
      ]
     },
     "execution_count": 12,
     "metadata": {},
     "output_type": "execute_result"
    }
   ],
   "source": [
    "# guardar k-nearest neighbors\n",
    "pipeline = Pipeline(steps=[('preprocessor', preprocessor),\n",
    "                            ('regressor', XGBRegressor())])\n",
    "\n",
    "pipeline.fit(X, y)\n",
    "\n",
    "y_pred = pipeline.predict(X_test)\n",
    "\n",
    "mae = mean_absolute_error(y_test, y_pred)\n",
    "\n",
    "r2 = r2_score(y_test, y_pred)\n",
    "\n",
    "print(f'Error Absoluto Medio: {mae}, R2 Score: {r2}')\n",
    "\n",
    "#guardar modelo\n",
    "\n",
    "joblib.dump(pipeline, '../webpage/modelo.pkl')"
   ]
  },
  {
   "cell_type": "code",
   "execution_count": null,
   "metadata": {},
   "outputs": [],
   "source": []
  }
 ],
 "metadata": {
  "kernelspec": {
   "display_name": "Python 3",
   "language": "python",
   "name": "python3"
  },
  "language_info": {
   "codemirror_mode": {
    "name": "ipython",
    "version": 3
   },
   "file_extension": ".py",
   "mimetype": "text/x-python",
   "name": "python",
   "nbconvert_exporter": "python",
   "pygments_lexer": "ipython3",
   "version": "3.9.6"
  }
 },
 "nbformat": 4,
 "nbformat_minor": 2
}
